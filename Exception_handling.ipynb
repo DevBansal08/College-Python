{
  "nbformat": 4,
  "nbformat_minor": 0,
  "metadata": {
    "colab": {
      "provenance": [],
      "authorship_tag": "ABX9TyNkLaoCr/pykjlcj96JK68P",
      "include_colab_link": true
    },
    "kernelspec": {
      "name": "python3",
      "display_name": "Python 3"
    },
    "language_info": {
      "name": "python"
    }
  },
  "cells": [
    {
      "cell_type": "markdown",
      "metadata": {
        "id": "view-in-github",
        "colab_type": "text"
      },
      "source": [
        "<a href=\"https://colab.research.google.com/github/DevBansal08/College-Python/blob/main/Exception_handling.ipynb\" target=\"_parent\"><img src=\"https://colab.research.google.com/assets/colab-badge.svg\" alt=\"Open In Colab\"/></a>"
      ]
    },
    {
      "cell_type": "code",
      "execution_count": 12,
      "metadata": {
        "colab": {
          "base_uri": "https://localhost:8080/"
        },
        "id": "iRQdPVVzxScy",
        "outputId": "9f97e794-76cf-427a-a618-59a0073bbdd6"
      },
      "outputs": [
        {
          "output_type": "stream",
          "name": "stdout",
          "text": [
            "Enter number:om\n",
            "Check your input\n"
          ]
        }
      ],
      "source": [
        "try:\n",
        "  a = int(input(\"Enter number:\"))\n",
        "  for i in range(1,11):\n",
        "    print(a*i)\n",
        "    i+=1\n",
        "except ValueError:\n",
        "  print(\"Check your input\")\n",
        ""
      ]
    },
    {
      "cell_type": "code",
      "source": [
        "a = [1,3,9,2,100]\n",
        "try:\n",
        "  print(a[10])\n",
        "except :\n",
        "  print(\"Check your index\")\n",
        "else:\n",
        "  print(\"Inde\")"
      ],
      "metadata": {
        "colab": {
          "base_uri": "https://localhost:8080/"
        },
        "id": "AFyft8g9Vrx5",
        "outputId": "0977c478-db0e-48bf-d0b3-b24db8cf1972"
      },
      "execution_count": 14,
      "outputs": [
        {
          "output_type": "stream",
          "name": "stdout",
          "text": [
            "Check your input\n"
          ]
        }
      ]
    },
    {
      "cell_type": "markdown",
      "source": [
        "WAP TO CALCULATE THE QUESTIENT IN A DIVISION OPERATON\n"
      ],
      "metadata": {
        "id": "grITABm0WVCu"
      }
    },
    {
      "cell_type": "code",
      "source": [
        "try:\n",
        "  a = int(input(\"Enter Numerator:\"))\n",
        "  b = int(input(\"Enter Denominator:\"))\n",
        "  quest= a // b\n",
        "  print(quest)\n",
        "except ZeroDivisionError:\n",
        "  print(\"Zero Division Error\")\n",
        "except ValueError:\n",
        "  print(\"Value Error\")\n",
        "\n"
      ],
      "metadata": {
        "colab": {
          "base_uri": "https://localhost:8080/"
        },
        "id": "2e_gUoQEWTRU",
        "outputId": "4a31eb0e-6f26-4670-dfff-df180ac98dba"
      },
      "execution_count": 5,
      "outputs": [
        {
          "output_type": "stream",
          "name": "stdout",
          "text": [
            "Enter Numerator:sum\n",
            "Value Error\n"
          ]
        }
      ]
    }
  ]
}