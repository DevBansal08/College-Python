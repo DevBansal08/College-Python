{
  "nbformat": 4,
  "nbformat_minor": 0,
  "metadata": {
    "colab": {
      "provenance": [],
      "authorship_tag": "ABX9TyOlYryniBaE8sQMlge2s7Yo",
      "include_colab_link": true
    },
    "kernelspec": {
      "name": "python3",
      "display_name": "Python 3"
    },
    "language_info": {
      "name": "python"
    }
  },
  "cells": [
    {
      "cell_type": "markdown",
      "metadata": {
        "id": "view-in-github",
        "colab_type": "text"
      },
      "source": [
        "<a href=\"https://colab.research.google.com/github/DevBansal08/College-Python/blob/main/Experiment1.ipynb\" target=\"_parent\"><img src=\"https://colab.research.google.com/assets/colab-badge.svg\" alt=\"Open In Colab\"/></a>"
      ]
    },
    {
      "cell_type": "code",
      "execution_count": 1,
      "metadata": {
        "colab": {
          "base_uri": "https://localhost:8080/"
        },
        "id": "iJVW6D6enXLT",
        "outputId": "74ceccb2-c4bb-40ec-e98b-0880b0c12282"
      },
      "outputs": [
        {
          "output_type": "stream",
          "name": "stdout",
          "text": [
            "Hello Everyone!!!\n"
          ]
        }
      ],
      "source": [
        "print(\"Hello Everyone!!!\")\n"
      ]
    },
    {
      "cell_type": "code",
      "source": [
        "print(\"Hello\")\n",
        "print(\" \")\n",
        "print(\"World\")"
      ],
      "metadata": {
        "colab": {
          "base_uri": "https://localhost:8080/"
        },
        "id": "S8GoAnmXn9lC",
        "outputId": "5d446702-5086-46b7-c1be-f44c7df9b16c"
      },
      "execution_count": 3,
      "outputs": [
        {
          "output_type": "stream",
          "name": "stdout",
          "text": [
            "Hello\n",
            " \n",
            "World\n"
          ]
        }
      ]
    },
    {
      "cell_type": "code",
      "source": [
        "print(\"Hello\")\n",
        "print(\" \")\n",
        "print(\"  World\")"
      ],
      "metadata": {
        "colab": {
          "base_uri": "https://localhost:8080/"
        },
        "id": "5zDdWUpOoGhU",
        "outputId": "c261b96e-8af2-4454-aa80-da1359dc59fc"
      },
      "execution_count": 4,
      "outputs": [
        {
          "output_type": "stream",
          "name": "stdout",
          "text": [
            "Hello\n",
            " \n",
            "  World\n"
          ]
        }
      ]
    },
    {
      "cell_type": "code",
      "source": [
        "print(\" Rohit’ s date of birth is 12-05-1999\")"
      ],
      "metadata": {
        "colab": {
          "base_uri": "https://localhost:8080/"
        },
        "id": "TXSFOuKQoN2o",
        "outputId": "33f622b6-7293-4a81-cfc3-3abdc39746fa"
      },
      "execution_count": 7,
      "outputs": [
        {
          "output_type": "stream",
          "name": "stdout",
          "text": [
            " Rohit’ s date of birth is 12-05-1999\n"
          ]
        }
      ]
    },
    {
      "cell_type": "code",
      "source": [
        "x= \"Hello\"\n",
        "print(x)"
      ],
      "metadata": {
        "colab": {
          "base_uri": "https://localhost:8080/"
        },
        "id": "1rYGW5BPpo6A",
        "outputId": "7a421084-db22-49e9-ded4-3bcecd387536"
      },
      "execution_count": 9,
      "outputs": [
        {
          "output_type": "stream",
          "name": "stdout",
          "text": [
            "Hello\n"
          ]
        }
      ]
    },
    {
      "cell_type": "code",
      "source": [
        "X = \"abc\" #String\n",
        "y = 123 #interger\n",
        "print(x)\n",
        "print(y)\n"
      ],
      "metadata": {
        "colab": {
          "base_uri": "https://localhost:8080/"
        },
        "id": "VZdxulR3preZ",
        "outputId": "c942592b-359d-410b-a755-38b8d57e24dc"
      },
      "execution_count": 10,
      "outputs": [
        {
          "output_type": "stream",
          "name": "stdout",
          "text": [
            "Hello\n",
            "123\n"
          ]
        }
      ]
    },
    {
      "cell_type": "code",
      "source": [
        "first_name = \"Divyanshi\"\n",
        "last_name = \"Sagar\"\n",
        "nickname = \"Divya\"\n",
        "print(first_name,\"(\",nickname,\")\",last_name)"
      ],
      "metadata": {
        "colab": {
          "base_uri": "https://localhost:8080/"
        },
        "id": "T4yG-ly-qpoE",
        "outputId": "30afe2c1-a21d-4b18-d8be-a8e2097aa4c1"
      },
      "execution_count": 13,
      "outputs": [
        {
          "output_type": "stream",
          "name": "stdout",
          "text": [
            "Divyanshi ( Divya ) Sagar\n"
          ]
        }
      ]
    },
    {
      "cell_type": "code",
      "source": [
        "name = \"NIKUNJ BANSAL\"\n",
        "id = 500069944\n",
        "dob = \"13 Oct 1999\"\n",
        "address = \"UPES,Bidholi Campus,Pincode : 24800\"\n",
        "pgm = \"AI & ML\"\n",
        "sem = 2\n",
        "print(\"NAME:\", name ,\"\\n\", \"SAP ID:\",id,\"\\n\",\"DATE OF BIRTH:\",dob,\"\\n\",\"ADDRESS:\",address,\"\\n\",\"PROGRAMME:\",pgm,\"\\n\",\"SEMESTER\",sem)"
      ],
      "metadata": {
        "colab": {
          "base_uri": "https://localhost:8080/"
        },
        "id": "L6HAxcUTsCxj",
        "outputId": "bb49f9cb-e2f1-49d6-88d7-28fe0ebb4d4b"
      },
      "execution_count": 20,
      "outputs": [
        {
          "output_type": "stream",
          "name": "stdout",
          "text": [
            "NAME: NIKUNJ BANSAL \n",
            " SAP ID: 500069944 \n",
            " DATE OF BIRTH: 13 Oct 1999 \n",
            " ADDRESS: UPES,Bidholi Campus,Pincode : 24800 \n",
            " PROGRAMME: AI & ML \n",
            " SEMESTER 2\n"
          ]
        }
      ]
    }
  ]
}