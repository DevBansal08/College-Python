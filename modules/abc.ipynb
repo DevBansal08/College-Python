{
 "cells": [
  {
   "cell_type": "code",
   "execution_count": null,
   "metadata": {},
   "outputs": [
    {
     "name": "stdout",
     "output_type": "stream",
     "text": [
      "Menu:\n",
      "+ for addition\n",
      "- for subtraction\n",
      "* for multiplication\n",
      "/ for division\n"
     ]
    }
   ],
   "source": [
    "class Calculator:\n",
    "    def calculate(self):\n",
    "        print(\"Menu:\")\n",
    "        print(\"+ for addition\")\n",
    "        print(\"- for subtraction\")\n",
    "        print(\"* for multiplication\")\n",
    "        print(\"/ for division\")\n",
    "        \n",
    "        operation = input(\"Enter operation: \")\n",
    "        num1 = float(input(\"Enter first number: \"))\n",
    "        num2 = float(input(\"Enter second number: \"))\n",
    "        \n",
    "        if operation == '+':\n",
    "            result = num1 + num2\n",
    "        elif operation == '-':\n",
    "            result = num1 - num2\n",
    "        elif operation == '*':\n",
    "            result = num1 * num2\n",
    "        elif operation == '/':\n",
    "            if num2 == 0:\n",
    "                return \"Cannot divide by zero!\"\n",
    "            result = num1 / num2\n",
    "        else:\n",
    "            return \"Invalid operation!\"\n",
    "            \n",
    "        return result\n",
    "\n",
    "calc = Calculator()\n",
    "print(calc.calculate())"
   ]
  },
  {
   "cell_type": "code",
   "execution_count": null,
   "metadata": {},
   "outputs": [
    {
     "name": "stdout",
     "output_type": "stream",
     "text": [
      "30\n"
     ]
    }
   ],
   "source": [
    "a= int(input(\"enter a\"))\n",
    "\n",
    "b = int(input(\"Enter B\"))\n",
    "print(a+b)"
   ]
  }
 ],
 "metadata": {
  "kernelspec": {
   "display_name": "myenv",
   "language": "python",
   "name": "python3"
  },
  "language_info": {
   "codemirror_mode": {
    "name": "ipython",
    "version": 3
   },
   "file_extension": ".py",
   "mimetype": "text/x-python",
   "name": "python",
   "nbconvert_exporter": "python",
   "pygments_lexer": "ipython3",
   "version": "3.12.8"
  }
 },
 "nbformat": 4,
 "nbformat_minor": 2
}
