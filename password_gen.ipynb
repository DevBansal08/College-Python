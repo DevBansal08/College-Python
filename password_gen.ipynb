{
  "nbformat": 4,
  "nbformat_minor": 0,
  "metadata": {
    "colab": {
      "provenance": [],
      "authorship_tag": "ABX9TyOIaGS4H4Gy9kG+C8DbAWC5",
      "include_colab_link": true
    },
    "kernelspec": {
      "name": "python3",
      "display_name": "Python 3"
    },
    "language_info": {
      "name": "python"
    }
  },
  "cells": [
    {
      "cell_type": "markdown",
      "metadata": {
        "id": "view-in-github",
        "colab_type": "text"
      },
      "source": [
        "<a href=\"https://colab.research.google.com/github/DevBansal08/College-Python/blob/main/password_gen.ipynb\" target=\"_parent\"><img src=\"https://colab.research.google.com/assets/colab-badge.svg\" alt=\"Open In Colab\"/></a>"
      ]
    },
    {
      "cell_type": "code",
      "execution_count": null,
      "metadata": {
        "colab": {
          "base_uri": "https://localhost:8080/"
        },
        "id": "s0Z1mikmVp1T",
        "outputId": "397e622b-529a-4cad-8599-e0517c74edba"
      },
      "outputs": [
        {
          "output_type": "stream",
          "name": "stdout",
          "text": [
            "Here's your password: ye6d3xxi\n",
            "Here's another one: L7&TchPbqBG6\n"
          ]
        }
      ],
      "source": [
        "import random\n",
        "\n",
        "def make_password(length=8):\n",
        "    # All the characters we can use in our password\n",
        "    characters = \"abcdefghijklmnopqrstuvwxyz\" + \"ABCDEFGHIJKLMNOPQRSTUVWXYZ\" + \"0123456789\" + \"!@#$%^&*\"\n",
        "\n",
        "    # Start with an empty password\n",
        "    password = \"\"\n",
        "\n",
        "    # Add random characters until we reach the desired length\n",
        "    for i in range(length):\n",
        "        # Pick a random character and add it to our password\n",
        "        password = password + random.choice(characters)\n",
        "\n",
        "    # Give back the finished password\n",
        "    return password\n",
        "\n",
        "# Try it out\n",
        "print(\"Here's your password:\", make_password())\n",
        "print(\"Here's another one:\", make_password(12))  # Make a longer one"
      ]
    },
    {
      "cell_type": "code",
      "source": [
        "import random\n",
        "\n",
        "def generate_password(length=12):\n",
        "    # Define character sets\n",
        "    lowercase = 'abcdefghijklmnopqrstuvwxyz'\n",
        "    uppercase = 'ABCDEFGHIJKLMNOPQRSTUVWXYZ'\n",
        "    digits = '0123456789'\n",
        "    special = '!@#$%^&*()_+-=[]{}|;:,.<>?'\n",
        "\n",
        "    # Ensure at least one character from each set\n",
        "    password = [\n",
        "        random.choice(lowercase),\n",
        "        random.choice(uppercase),\n",
        "        random.choice(digits),\n",
        "        random.choice(special)\n",
        "    ]\n",
        "\n",
        "    # Fill the remaining length with random characters from all sets\n",
        "    all_chars = lowercase + uppercase + digits + special\n",
        "    remaining_length = length - len(password)\n",
        "\n",
        "    for _ in range(remaining_length):\n",
        "        password.append(random.choice(all_chars))\n",
        "\n",
        "    # Shuffle the password to make it random\n",
        "    random.shuffle(password)\n",
        "\n",
        "    # Join the characters into a single string\n",
        "    return ''.join(password)\n",
        "\n",
        "# Example usage\n",
        "if __name__ == \"__main__\":\n",
        "    # Generate a 12-character password\n",
        "    pwd = generate_password(12)\n",
        "    print(f\"Generated password: {pwd}\")\n",
        "\n",
        "    # Generate a 16-character password\n",
        "    pwd_long = generate_password(16)\n",
        "    print(f\"Longer password: {pwd_long}\")"
      ],
      "metadata": {
        "colab": {
          "base_uri": "https://localhost:8080/"
        },
        "id": "Rc8m8iJFV-j9",
        "outputId": "b456e2e4-a762-4b1e-93ed-06d30672efb4"
      },
      "execution_count": null,
      "outputs": [
        {
          "output_type": "stream",
          "name": "stdout",
          "text": [
            "Generated password: b8j5*F|PSx{.\n",
            "Longer password: SCp!yN*dgw9}KEu[\n"
          ]
        }
      ]
    },
    {
      "cell_type": "code",
      "source": [
        "print(\"hhahahahahahahaahahah\")"
      ],
      "metadata": {
        "id": "Xip1YkC7-rgd"
      },
      "execution_count": null,
      "outputs": []
    }
  ]
}