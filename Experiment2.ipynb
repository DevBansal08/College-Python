{
  "nbformat": 4,
  "nbformat_minor": 0,
  "metadata": {
    "colab": {
      "provenance": [],
      "authorship_tag": "ABX9TyOn/QWgADm+4DjYWCb80xbv",
      "include_colab_link": true
    },
    "kernelspec": {
      "name": "python3",
      "display_name": "Python 3"
    },
    "language_info": {
      "name": "python"
    }
  },
  "cells": [
    {
      "cell_type": "markdown",
      "metadata": {
        "id": "view-in-github",
        "colab_type": "text"
      },
      "source": [
        "<a href=\"https://colab.research.google.com/github/DevBansal08/College-Python/blob/main/Experiment2.ipynb\" target=\"_parent\"><img src=\"https://colab.research.google.com/assets/colab-badge.svg\" alt=\"Open In Colab\"/></a>"
      ]
    },
    {
      "cell_type": "code",
      "execution_count": 1,
      "metadata": {
        "colab": {
          "base_uri": "https://localhost:8080/"
        },
        "id": "ZW2gR7aXuTE-",
        "outputId": "2188a07b-9126-495f-ea72-a4e5fd9f665d"
      },
      "outputs": [
        {
          "output_type": "stream",
          "name": "stdout",
          "text": [
            "Sum: 16\n",
            "Difference: 2\n",
            "Product: 63\n",
            "Division: 1.2857142857142858\n"
          ]
        }
      ],
      "source": [
        "x= 9\n",
        "y = 7\n",
        "print(\"Sum:\", x+y)\n",
        "print(\"Difference:\", x-y)\n",
        "print(\"Product:\", x*y)\n",
        "print(\"Division:\", x/y)"
      ]
    },
    {
      "cell_type": "code",
      "source": [
        "rad = int(input(\"Enter Radius of circle\"))\n",
        "area = 3.14*(rad*rad)\n",
        "print(area)"
      ],
      "metadata": {
        "colab": {
          "base_uri": "https://localhost:8080/"
        },
        "id": "bt3MsL-svYMO",
        "outputId": "1a0e71fa-10f7-46f2-b444-b2d9e776f025"
      },
      "execution_count": 2,
      "outputs": [
        {
          "output_type": "stream",
          "name": "stdout",
          "text": [
            "Enter Radius of circle12\n",
            "452.16\n"
          ]
        }
      ]
    },
    {
      "cell_type": "code",
      "source": [
        "x =  4\n",
        "y = 3\n",
        "result = (x+y)*(x+y)\n",
        "print(result)"
      ],
      "metadata": {
        "colab": {
          "base_uri": "https://localhost:8080/"
        },
        "id": "52Y_1VBWwEsf",
        "outputId": "95c4f72c-633e-42d0-dace-4875257ab970"
      },
      "execution_count": 3,
      "outputs": [
        {
          "output_type": "stream",
          "name": "stdout",
          "text": [
            "49\n"
          ]
        }
      ]
    },
    {
      "cell_type": "code",
      "source": [
        "import math\n",
        "a = float(input(\"Enter Perpendicular\"))\n",
        "b = float(input(\"Enter Base\"))\n",
        "c = math.sqrt(a**2 + b**2)\n",
        "print(\"Hypotenuse is\", c)\n",
        "\n"
      ],
      "metadata": {
        "colab": {
          "base_uri": "https://localhost:8080/"
        },
        "id": "cmCxO_WEwsxH",
        "outputId": "ac26fb4d-e829-491f-c357-7212307d3295"
      },
      "execution_count": 7,
      "outputs": [
        {
          "output_type": "stream",
          "name": "stdout",
          "text": [
            "Enter Perpendicular3\n",
            "Enter Base4\n",
            "Hypotenuse is 5.0\n"
          ]
        }
      ]
    },
    {
      "cell_type": "code",
      "source": [
        "P = float(input(\"Enter the principal amount: \"))\n",
        "R = float(input(\"Enter the rate of interest (in %): \"))\n",
        "T = float(input(\"Enter the time (in years): \"))\n",
        "SI = (P * R * T) / 100\n",
        "print(\"The Simple Interest is:\", SI)\n"
      ],
      "metadata": {
        "colab": {
          "base_uri": "https://localhost:8080/"
        },
        "id": "7zqTKDcPyDm0",
        "outputId": "dbe8e7de-58e4-4faa-ff13-39a4b569e6cd"
      },
      "execution_count": 8,
      "outputs": [
        {
          "output_type": "stream",
          "name": "stdout",
          "text": [
            "Enter the principal amount: 100\n",
            "Enter the rate of interest (in %): 2\n",
            "Enter the time (in years): 2\n",
            "The Simple Interest is: 4.0\n"
          ]
        }
      ]
    },
    {
      "cell_type": "code",
      "source": [
        "import math\n",
        "a = float(input(\"Enter the length of side a: \"))\n",
        "b = float(input(\"Enter the length of side b: \"))\n",
        "c = float(input(\"Enter the length of side c: \"))\n",
        "s = (a + b + c) / 2\n",
        "\n",
        "area = math.sqrt(s * (s - a) * (s - b) * (s - c))\n",
        "\n",
        "print(\"The area of the triangle is:\", area)\n"
      ],
      "metadata": {
        "colab": {
          "base_uri": "https://localhost:8080/"
        },
        "id": "HNIgM8zYyaRI",
        "outputId": "fc483f58-35d6-471c-dceb-ef78d874ac1d"
      },
      "execution_count": 10,
      "outputs": [
        {
          "output_type": "stream",
          "name": "stdout",
          "text": [
            "Enter the length of side a: 3\n",
            "Enter the length of side b: 4\n",
            "Enter the length of side c: 5\n",
            "The area of the triangle is: 6.0\n"
          ]
        }
      ]
    },
    {
      "cell_type": "code",
      "source": [
        "total_seconds = int(input(\"Enter the total number of seconds: \"))\n",
        "hours = total_seconds // 3600\n",
        "remaining_seconds = total_seconds % 3600\n",
        "minutes = remaining_seconds // 60\n",
        "seconds = remaining_seconds % 60\n",
        "print(f\"{total_seconds} seconds is equal to:\")\n",
        "print(f\"{hours} hours, {minutes} minutes, and {seconds} seconds.\")\n"
      ],
      "metadata": {
        "colab": {
          "base_uri": "https://localhost:8080/"
        },
        "id": "wrdfDksuyzhx",
        "outputId": "406b45d1-8987-4a76-d3d5-5e5f011a9420"
      },
      "execution_count": 11,
      "outputs": [
        {
          "output_type": "stream",
          "name": "stdout",
          "text": [
            "Enter the total number of seconds: 3671\n",
            "3671 seconds is equal to:\n",
            "1 hours, 1 minutes, and 11 seconds.\n"
          ]
        }
      ]
    },
    {
      "cell_type": "code",
      "source": [
        "\n",
        "a = float(input(\"Enter the first number (a): \"))\n",
        "b = float(input(\"Enter the second number (b): \"))\n",
        "a = a + b\n",
        "b = a - b\n",
        "a = a - b\n",
        "print(\"After swapping:\")\n",
        "print(f\"First number (a): {a}\")\n",
        "print(f\"Second number (b): {b}\")\n"
      ],
      "metadata": {
        "colab": {
          "base_uri": "https://localhost:8080/"
        },
        "id": "WbeJvCKhzUFM",
        "outputId": "1cd112da-1bf0-4158-87e1-658150778ab3"
      },
      "execution_count": 12,
      "outputs": [
        {
          "output_type": "stream",
          "name": "stdout",
          "text": [
            "Enter the first number (a): 3\n",
            "Enter the second number (b): 7\n",
            "After swapping:\n",
            "First number (a): 7.0\n",
            "Second number (b): 3.0\n"
          ]
        }
      ]
    },
    {
      "cell_type": "code",
      "source": [
        "n = int(input(\"Enter the value of n: \"))\n",
        "sum_of_numbers = n * (n + 1) // 2\n",
        "print(f\"The sum of the first {n} natural numbers is: {sum_of_numbers}\")\n"
      ],
      "metadata": {
        "colab": {
          "base_uri": "https://localhost:8080/"
        },
        "id": "BJqsxJh-0D6x",
        "outputId": "a59bc4d1-53c0-4a01-efc8-637218f452a0"
      },
      "execution_count": 13,
      "outputs": [
        {
          "output_type": "stream",
          "name": "stdout",
          "text": [
            "Enter the value of n: 5\n",
            "The sum of the first 5 natural numbers is: 15\n"
          ]
        }
      ]
    },
    {
      "cell_type": "code",
      "source": [
        "print(\"A B  A&B  A|B  A^B\")\n",
        "print(\"-\" * 20)\n",
        "for A in [0, 1]:\n",
        "    for B in [0, 1]:\n",
        "        bitwise_and = A & B\n",
        "        bitwise_or = A | B\n",
        "        bitwise_xor = A ^ B\n",
        "        print(f\"{A} {B}   {bitwise_and}    {bitwise_or}    {bitwise_xor}\")\n"
      ],
      "metadata": {
        "colab": {
          "base_uri": "https://localhost:8080/"
        },
        "id": "jdA08yLu0rz4",
        "outputId": "2014231b-35e6-41fb-939e-301457f2c583"
      },
      "execution_count": 14,
      "outputs": [
        {
          "output_type": "stream",
          "name": "stdout",
          "text": [
            "A B  A&B  A|B  A^B\n",
            "--------------------\n",
            "0 0   0    0    0\n",
            "0 1   0    1    1\n",
            "1 0   0    1    1\n",
            "1 1   1    1    0\n"
          ]
        }
      ]
    },
    {
      "cell_type": "code",
      "source": [
        "number = int(input(\"Enter a number: \"))\n",
        "shift = int(input(\"Enter the number of bits to shift: \"))\n",
        "left_shift = number << shift\n",
        "right_shift = number >> shift\n",
        "print(f\"The result of left shifting {number} by {shift} bits is: {left_shift}\")\n",
        "print(f\"The result of right shifting {number} by {shift} bits is: {right_shift}\")\n"
      ],
      "metadata": {
        "colab": {
          "base_uri": "https://localhost:8080/"
        },
        "id": "KXEA3BYd1BO3",
        "outputId": "ab8085bf-f29e-4175-cf49-12b7f0bddf36"
      },
      "execution_count": 15,
      "outputs": [
        {
          "output_type": "stream",
          "name": "stdout",
          "text": [
            "Enter a number: 8\n",
            "Enter the number of bits to shift: 2\n",
            "The result of left shifting 8 by 2 bits is: 32\n",
            "The result of right shifting 8 by 2 bits is: 2\n"
          ]
        }
      ]
    },
    {
      "cell_type": "code",
      "source": [
        "sequence = (10, 20, 56, 78, 89)\n",
        "number = int(input(\"Enter the number to check: \"))\n",
        "if number in sequence:\n",
        "    print(f\"{number} is in the sequence {sequence}.\")\n",
        "else:\n",
        "    print(f\"{number} is not in the sequence {sequence}.\")\n"
      ],
      "metadata": {
        "colab": {
          "base_uri": "https://localhost:8080/"
        },
        "id": "dWKx8efe1lLH",
        "outputId": "a025051e-050a-4100-eade-77b71c0bde2c"
      },
      "execution_count": 17,
      "outputs": [
        {
          "output_type": "stream",
          "name": "stdout",
          "text": [
            "Enter the number to check: 12\n",
            "12 is not in the sequence (10, 20, 56, 78, 89).\n"
          ]
        }
      ]
    },
    {
      "cell_type": "code",
      "source": [
        "string = input(\"Enter a string: \")\n",
        "char = input(\"Enter a character to check: \")\n",
        "if char in string:\n",
        "    print(f\"'{char}' is in the string '{string}'.\")\n",
        "else:\n",
        "    print(f\"'{char}' is not in the string '{string}'.\")\n"
      ],
      "metadata": {
        "colab": {
          "base_uri": "https://localhost:8080/"
        },
        "id": "u0RS-hDT17cw",
        "outputId": "58339335-ab5f-41a1-b242-91d50073e357"
      },
      "execution_count": 18,
      "outputs": [
        {
          "output_type": "stream",
          "name": "stdout",
          "text": [
            "Enter a string: HELLO\n",
            "Enter a character to check: z\n",
            "'z' is not in the string 'HELLO'.\n"
          ]
        }
      ]
    },
    {
      "cell_type": "code",
      "source": [],
      "metadata": {
        "id": "sUEX07FN4Vuy"
      },
      "execution_count": null,
      "outputs": []
    }
  ]
}