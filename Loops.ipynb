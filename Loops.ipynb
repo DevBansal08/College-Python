{
  "nbformat": 4,
  "nbformat_minor": 0,
  "metadata": {
    "colab": {
      "provenance": [],
      "authorship_tag": "ABX9TyO2Ghw98KlJuQA2BFbJjm7+",
      "include_colab_link": true
    },
    "kernelspec": {
      "name": "python3",
      "display_name": "Python 3"
    },
    "language_info": {
      "name": "python"
    }
  },
  "cells": [
    {
      "cell_type": "markdown",
      "metadata": {
        "id": "view-in-github",
        "colab_type": "text"
      },
      "source": [
        "<a href=\"https://colab.research.google.com/github/DevBansal08/College-Python/blob/main/Loops.ipynb\" target=\"_parent\"><img src=\"https://colab.research.google.com/assets/colab-badge.svg\" alt=\"Open In Colab\"/></a>"
      ]
    },
    {
      "cell_type": "code",
      "execution_count": 3,
      "metadata": {
        "colab": {
          "base_uri": "https://localhost:8080/"
        },
        "id": "gy2I1sxVS_Oq",
        "outputId": "392d9408-38c7-4342-e1ed-a786897b7a69"
      },
      "outputs": [
        {
          "output_type": "stream",
          "name": "stdout",
          "text": [
            "\n",
            "*\n",
            "**\n",
            "***\n",
            "****\n",
            "*****\n",
            "******\n",
            "*******\n",
            "********\n",
            "*********\n"
          ]
        }
      ],
      "source": [
        "i = 0\n",
        "while i < 10:\n",
        "  print(i * \"*\")\n",
        "  i+=1\n"
      ]
    },
    {
      "cell_type": "code",
      "source": [
        "sec_num = 14\n",
        "guess_num= 3\n",
        "counter = 0\n",
        "\n",
        "while counter< guess_num:\n",
        "  num = int(input(\"Guess the number: \"))\n",
        "  if num == sec_num:\n",
        "    print(\"You won\")\n",
        "    break\n",
        "  else:\n",
        "    counter+=1\n",
        "    print(\"Try Again\")"
      ],
      "metadata": {
        "colab": {
          "base_uri": "https://localhost:8080/"
        },
        "id": "H0GWmao1WKGz",
        "outputId": "45923f34-5679-4f42-d279-3766e89cc0fd"
      },
      "execution_count": 6,
      "outputs": [
        {
          "output_type": "stream",
          "name": "stdout",
          "text": [
            "Guess the number: 12\n",
            "Try Again\n",
            "Guess the number: 14\n",
            "You won\n"
          ]
        }
      ]
    },
    {
      "cell_type": "code",
      "source": [
        "car_start = input(\"Enter Start to begin the game\")\n",
        "car_stop = input(\"Enter Stop to stop  the  game\")\n",
        "car_quit = input(\"Enter Quit to quit the game\")\n",
        "car_help = input(\"Enter Help to begin the game\")\n"
      ],
      "metadata": {
        "id": "iNj6AgVCYYTU"
      },
      "execution_count": null,
      "outputs": []
    }
  ]
}