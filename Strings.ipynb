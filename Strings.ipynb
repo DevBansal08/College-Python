{
  "nbformat": 4,
  "nbformat_minor": 0,
  "metadata": {
    "colab": {
      "provenance": [],
      "authorship_tag": "ABX9TyPOCHsV3BmoGLBhIYa4qe5y",
      "include_colab_link": true
    },
    "kernelspec": {
      "name": "python3",
      "display_name": "Python 3"
    },
    "language_info": {
      "name": "python"
    }
  },
  "cells": [
    {
      "cell_type": "markdown",
      "metadata": {
        "id": "view-in-github",
        "colab_type": "text"
      },
      "source": [
        "<a href=\"https://colab.research.google.com/github/DevBansal08/College-Python/blob/main/Strings.ipynb\" target=\"_parent\"><img src=\"https://colab.research.google.com/assets/colab-badge.svg\" alt=\"Open In Colab\"/></a>"
      ]
    },
    {
      "cell_type": "code",
      "execution_count": 1,
      "metadata": {
        "colab": {
          "base_uri": "https://localhost:8080/"
        },
        "collapsed": true,
        "id": "vydq78V_Xml9",
        "outputId": "550a0815-4639-4f96-87ac-a22b4f80e304"
      },
      "outputs": [
        {
          "output_type": "stream",
          "name": "stdout",
          "text": [
            "W\n",
            "e\n",
            "l\n",
            "c\n",
            "o\n",
            "m\n",
            "e\n",
            " \n",
            "t\n",
            "o\n",
            " \n",
            "s\n",
            "t\n",
            "r\n",
            "i\n",
            "n\n",
            "g\n",
            "s\n"
          ]
        }
      ],
      "source": [
        "a = \"Welcome to strings\"\n",
        "for i in  a:\n",
        "  print(i)"
      ]
    },
    {
      "cell_type": "code",
      "source": [
        "a[0:6:2]"
      ],
      "metadata": {
        "colab": {
          "base_uri": "https://localhost:8080/",
          "height": 36
        },
        "id": "mSANYYD4YIq2",
        "outputId": "3b2e82af-acdc-4eed-c73c-ec9239b9055f"
      },
      "execution_count": 2,
      "outputs": [
        {
          "output_type": "execute_result",
          "data": {
            "text/plain": [
              "'Wlo'"
            ],
            "application/vnd.google.colaboratory.intrinsic+json": {
              "type": "string"
            }
          },
          "metadata": {},
          "execution_count": 2
        }
      ]
    },
    {
      "cell_type": "markdown",
      "source": [
        "**Strings Are Immutable**\n"
      ],
      "metadata": {
        "id": "w-Tl-W7CYR0r"
      }
    },
    {
      "cell_type": "code",
      "source": [
        "a = input(\"Enter First String\")\n",
        "b = input(\"Enter Second String\")\n",
        "c = a + b\n",
        "print (c)\n"
      ],
      "metadata": {
        "colab": {
          "base_uri": "https://localhost:8080/"
        },
        "id": "Ry1L6Lk-YYod",
        "outputId": "1876d020-18dd-4781-a180-70dae5e7d804"
      },
      "execution_count": 3,
      "outputs": [
        {
          "output_type": "stream",
          "name": "stdout",
          "text": [
            "Enter First StringDev\n",
            "Enter Second StringBansal\n",
            "DevBansal\n"
          ]
        }
      ]
    }
  ]
}