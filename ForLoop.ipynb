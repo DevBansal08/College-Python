{
  "nbformat": 4,
  "nbformat_minor": 0,
  "metadata": {
    "colab": {
      "provenance": [],
      "authorship_tag": "ABX9TyOJdEPN75D3WLSHZO4fuzJ/",
      "include_colab_link": true
    },
    "kernelspec": {
      "name": "python3",
      "display_name": "Python 3"
    },
    "language_info": {
      "name": "python"
    }
  },
  "cells": [
    {
      "cell_type": "markdown",
      "metadata": {
        "id": "view-in-github",
        "colab_type": "text"
      },
      "source": [
        "<a href=\"https://colab.research.google.com/github/DevBansal08/College-Python/blob/main/ForLoop.ipynb\" target=\"_parent\"><img src=\"https://colab.research.google.com/assets/colab-badge.svg\" alt=\"Open In Colab\"/></a>"
      ]
    },
    {
      "cell_type": "code",
      "source": [
        "L1= [\"Apple\", 1 , \"C\", \"\"]\n",
        "for i in L1:\n",
        "  print(i)"
      ],
      "metadata": {
        "colab": {
          "base_uri": "https://localhost:8080/"
        },
        "id": "8bUUUii7zt9N",
        "outputId": "0c5e3f74-1b84-447e-9118-4125be0f65cf"
      },
      "execution_count": 8,
      "outputs": [
        {
          "output_type": "stream",
          "name": "stdout",
          "text": [
            "Apple\n",
            "1\n",
            "C\n",
            "\n"
          ]
        }
      ]
    },
    {
      "cell_type": "code",
      "source": [
        "s = \"Welcome Python\"\n",
        "for i in s:\n",
        "    if i == \"l\" or i == \"t\":\n",
        "        continue\n",
        "    print(i)"
      ],
      "metadata": {
        "colab": {
          "base_uri": "https://localhost:8080/"
        },
        "id": "_3IBpuSC2_N-",
        "outputId": "8e7af6d0-1e42-4e43-d6f9-ac3658588eca"
      },
      "execution_count": 12,
      "outputs": [
        {
          "output_type": "stream",
          "name": "stdout",
          "text": [
            "W\n",
            "e\n",
            "c\n",
            "o\n",
            "m\n",
            "e\n",
            " \n",
            "P\n",
            "y\n",
            "h\n",
            "o\n",
            "n\n"
          ]
        }
      ]
    },
    {
      "cell_type": "code",
      "source": [
        "#write a program to prin factorial of a number\n",
        "num = int(input(\"Enter a number: \"))\n",
        "result = 1\n",
        "i = 1\n",
        "while i <= num:\n",
        "    result *= i\n",
        "    i += 1\n",
        "print(f\"The factorial of {num} is {result}\")\n"
      ],
      "metadata": {
        "colab": {
          "base_uri": "https://localhost:8080/"
        },
        "id": "_919Jv0g4YAH",
        "outputId": "ca689a0f-8fac-45b4-9d6d-cdb8b9410948"
      },
      "execution_count": 13,
      "outputs": [
        {
          "output_type": "stream",
          "name": "stdout",
          "text": [
            "Enter a number: 3\n",
            "6\n"
          ]
        }
      ]
    },
    {
      "cell_type": "code",
      "source": [
        "num = int(input(\"Enter a number: \"))\n",
        "res = 1\n",
        "numb = []\n",
        "i = 1\n",
        "while i <= num:\n",
        "    numb.append(i)\n",
        "    i += 1\n",
        "for n in numb:\n",
        "    res *= n\n",
        "print(res)"
      ],
      "metadata": {
        "colab": {
          "base_uri": "https://localhost:8080/"
        },
        "id": "QTWljO3Y6dP3",
        "outputId": "0f6eec30-43d9-44ed-99a0-1c4a99fa9e4d"
      },
      "execution_count": 15,
      "outputs": [
        {
          "output_type": "stream",
          "name": "stdout",
          "text": [
            "Enter a number: 4\n",
            "24\n"
          ]
        }
      ]
    }
  ]
}