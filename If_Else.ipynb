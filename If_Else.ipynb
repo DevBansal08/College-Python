{
  "nbformat": 4,
  "nbformat_minor": 0,
  "metadata": {
    "colab": {
      "provenance": [],
      "authorship_tag": "ABX9TyOg1hYm/xlsSbVu0pbtJwW/",
      "include_colab_link": true
    },
    "kernelspec": {
      "name": "python3",
      "display_name": "Python 3"
    },
    "language_info": {
      "name": "python"
    }
  },
  "cells": [
    {
      "cell_type": "markdown",
      "metadata": {
        "id": "view-in-github",
        "colab_type": "text"
      },
      "source": [
        "<a href=\"https://colab.research.google.com/github/DevBansal08/College-Python/blob/main/If_Else.ipynb\" target=\"_parent\"><img src=\"https://colab.research.google.com/assets/colab-badge.svg\" alt=\"Open In Colab\"/></a>"
      ]
    },
    {
      "cell_type": "code",
      "execution_count": 1,
      "metadata": {
        "colab": {
          "base_uri": "https://localhost:8080/"
        },
        "id": "25b5gxUQCJFo",
        "outputId": "271c1fa0-06db-4c79-b459-227752060d61"
      },
      "outputs": [
        {
          "output_type": "stream",
          "name": "stdout",
          "text": [
            "Hello\n",
            "Done\n"
          ]
        }
      ],
      "source": [
        "x= 10\n",
        "if x <=10:\n",
        "  print(\"Hello\")\n",
        "  x = x+1\n",
        "print(\"Done\")"
      ]
    },
    {
      "cell_type": "code",
      "source": [
        "x= 10\n",
        "if x >0:\n",
        "  print(\"Hello\")\n",
        "  x = x+1\n",
        "print(\"Done\")"
      ],
      "metadata": {
        "colab": {
          "base_uri": "https://localhost:8080/"
        },
        "id": "glR-dVUODIbK",
        "outputId": "34129475-bed2-4819-afbd-29e7335e3a23"
      },
      "execution_count": 3,
      "outputs": [
        {
          "output_type": "stream",
          "name": "stdout",
          "text": [
            "Hello\n",
            "Done\n"
          ]
        }
      ]
    },
    {
      "cell_type": "code",
      "source": [
        "#write a python code for weight conversion\n",
        "weight = int(input(\"Enter your weight\"))\n",
        "unit = (input(\"Enter the unit (Kg/lbs)\"))\n",
        "if unit == \"Kg\":\n",
        "  weight = weight*2.2\n",
        "  print(\"Your weight is\",weight, \"lbs\")\n",
        "elif unit == \"lbs\":\n",
        "  weight = weight*0.45\n",
        "  print(\"Your weight is\",weight, \"Kg\")\n",
        "else:\n",
        "  print(\"Invalid Unit\")\n"
      ],
      "metadata": {
        "colab": {
          "base_uri": "https://localhost:8080/"
        },
        "id": "fgkZl772E9tw",
        "outputId": "8946a01c-6725-49f4-9e47-6ac583cca665"
      },
      "execution_count": 13,
      "outputs": [
        {
          "output_type": "stream",
          "name": "stdout",
          "text": [
            "Enter your weight200\n",
            "Enter the unit (Kg/lbs)lbs\n",
            "Your weight is 90.0 Kg\n"
          ]
        }
      ]
    }
  ]
}