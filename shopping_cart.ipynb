{
  "nbformat": 4,
  "nbformat_minor": 0,
  "metadata": {
    "colab": {
      "provenance": [],
      "authorship_tag": "ABX9TyO5aETWo86miXO1XkizKTsU",
      "include_colab_link": true
    },
    "kernelspec": {
      "name": "python3",
      "display_name": "Python 3"
    },
    "language_info": {
      "name": "python"
    }
  },
  "cells": [
    {
      "cell_type": "markdown",
      "metadata": {
        "id": "view-in-github",
        "colab_type": "text"
      },
      "source": [
        "<a href=\"https://colab.research.google.com/github/DevBansal08/College-Python/blob/main/shopping_cart.ipynb\" target=\"_parent\"><img src=\"https://colab.research.google.com/assets/colab-badge.svg\" alt=\"Open In Colab\"/></a>"
      ]
    },
    {
      "cell_type": "code",
      "execution_count": null,
      "metadata": {
        "id": "FzeTkE6etLw_"
      },
      "outputs": [],
      "source": [
        "cart = {}\n",
        "\n",
        "def add_item():\n",
        "    name = input(\"Enter item name: \")\n",
        "    price = float(input(\"Enter item price: \"))\n",
        "    quantity = int(input(\"Enter quantity: \"))\n",
        "\n",
        "    if name in cart.keys():\n",
        "        cart[name][\"quantity\"] += quantity\n",
        "    else:\n",
        "        cart[name] = {\"price\": price, \"quantity\": quantity}\n",
        "\n",
        "    print(\"Added\", quantity, \"x\", name, \"to cart.\")\n",
        "\n",
        "def remove_item():\n",
        "    name = input(\"Enter item name to remove: \")\n",
        "    if name in cart.keys():\n",
        "        cart.pop(name)\n",
        "        print(\"Removed\", name, \"from cart.\")\n",
        "    else:\n",
        "        print(\"Item not found in cart!\")\n",
        "\n",
        "def update_quantity():\n",
        "    name = input(\"Enter item name to update: \")\n",
        "    if name in cart.keys():\n",
        "        quantity = int(input(\"Enter new quantity: \"))\n",
        "        if quantity > 0:\n",
        "            cart[name][\"quantity\"] = quantity\n",
        "            print(\"Updated\", name, \"quantity to\", quantity)\n",
        "        else:\n",
        "            cart.pop(name)\n",
        "            print(\"Removed\", name, \"as quantity is now zero.\")\n",
        "    else:\n",
        "        print(\"Item not found in cart!\")\n",
        "\n",
        "def display_cart():\n",
        "    if not cart:\n",
        "        print(\"Your cart is empty!\")\n",
        "        return\n",
        "\n",
        "    total = 0\n",
        "    print(\"\\n🛙 Shopping Cart:\")\n",
        "    for name, details in cart.items():\n",
        "        cost = details[\"price\"] * details[\"quantity\"]\n",
        "        total += cost\n",
        "        print(\"-\", name + \":\", details[\"quantity\"], \"x $\", f\"{details['price']:.2f}\", \"=\", \"$\", f\"{cost:.2f}\")\n",
        "    print(\"\\n Total Cost:\", \"$\", f\"{total:.2f}\")\n",
        "\n",
        "def checkout():\n",
        "    display_cart()\n",
        "    if cart:\n",
        "        cart.clear()\n",
        "        print(\"\\n Checkout successful! Thank you for shopping.\")\n",
        "    else:\n",
        "        print(\"Your cart is empty!\")\n",
        "\n",
        "while True:\n",
        "    print(\"\\n Shopping Cart Menu:\")\n",
        "    print(\"1. Add Item\")\n",
        "    print(\"2. Remove Item\")\n",
        "    print(\"3. Update Quantity\")\n",
        "    print(\"4. View Cart\")\n",
        "    print(\"5. Checkout\")\n",
        "    print(\"6. Exit\")\n",
        "\n",
        "    choice = input(\"Enter your choice (1-6): \")\n",
        "\n",
        "    match choice:\n",
        "        case \"1\":\n",
        "            add_item()\n",
        "        case \"2\":\n",
        "            remove_item()\n",
        "        case \"3\":\n",
        "            update_quantity()\n",
        "        case \"4\":\n",
        "            display_cart()\n",
        "        case \"5\":\n",
        "            checkout()\n",
        "        case \"6\":\n",
        "            print(\"Exiting program. Goodbye!\")\n",
        "            break\n",
        "        case _:\n",
        "            print(\"Invalid choice! Please enter a number between 1 and 6.\")\n",
        "\n",
        "\n",
        "\n"
      ]
    }
  ]
}